{
 "cells": [
  {
   "cell_type": "markdown",
   "id": "e0086ab4",
   "metadata": {},
   "source": [
    "### Import Libraries"
   ]
  },
  {
   "cell_type": "code",
   "execution_count": 158,
   "id": "025b6f78",
   "metadata": {
    "scrolled": true
   },
   "outputs": [],
   "source": [
    "import pandas as pd"
   ]
  },
  {
   "cell_type": "code",
   "execution_count": 159,
   "id": "b66ae39f",
   "metadata": {},
   "outputs": [],
   "source": [
    "import numpy as np"
   ]
  },
  {
   "cell_type": "code",
   "execution_count": 160,
   "id": "f2a60594",
   "metadata": {},
   "outputs": [],
   "source": [
    "import matplotlib.pyplot as plt"
   ]
  },
  {
   "cell_type": "markdown",
   "id": "b249e529",
   "metadata": {},
   "source": [
    "### Import Data"
   ]
  },
  {
   "cell_type": "code",
   "execution_count": 161,
   "id": "b9889d9d",
   "metadata": {},
   "outputs": [],
   "source": [
    "data = pd.read_csv(\"uber_data.csv\")"
   ]
  },
  {
   "cell_type": "markdown",
   "id": "bc472a4d",
   "metadata": {},
   "source": [
    "### Print Columns and Rows"
   ]
  },
  {
   "cell_type": "code",
   "execution_count": 162,
   "id": "3446f0ae",
   "metadata": {},
   "outputs": [
    {
     "name": "stdout",
     "output_type": "stream",
     "text": [
      "(6745, 6)\n"
     ]
    }
   ],
   "source": [
    "print(data.shape)"
   ]
  },
  {
   "cell_type": "markdown",
   "id": "d5a0a84d",
   "metadata": {},
   "source": [
    "### Change Column Names"
   ]
  },
  {
   "cell_type": "code",
   "execution_count": 163,
   "id": "89d0d523",
   "metadata": {},
   "outputs": [],
   "source": [
    "data.columns = ['Request_ID','Pickup_Point','Driver_ID','Status','Request_Timestamp','Drop_Timestamp']"
   ]
  },
  {
   "cell_type": "markdown",
   "id": "3fc94d35",
   "metadata": {},
   "source": [
    "### Convert timestamp datatype to object"
   ]
  },
  {
   "cell_type": "code",
   "execution_count": 164,
   "id": "eafdf478",
   "metadata": {},
   "outputs": [],
   "source": [
    "data[\"Request_Timestamp\"] = pd.to_datetime(data[\"Request_Timestamp\"])"
   ]
  },
  {
   "cell_type": "markdown",
   "id": "358682b2",
   "metadata": {},
   "source": [
    "### Fetch hour from the timestamp to plot time slots"
   ]
  },
  {
   "cell_type": "code",
   "execution_count": 165,
   "id": "ce31cf38",
   "metadata": {},
   "outputs": [],
   "source": [
    "data[\"Request_Hour\"] = data[\"Request_Timestamp\"].dt.hour"
   ]
  },
  {
   "cell_type": "code",
   "execution_count": 166,
   "id": "f99dcd12",
   "metadata": {},
   "outputs": [],
   "source": [
    "data[\"Drop_Timestamp\"] = pd.to_datetime(data[\"Drop_Timestamp\"])"
   ]
  },
  {
   "cell_type": "code",
   "execution_count": 167,
   "id": "80dea82a",
   "metadata": {},
   "outputs": [],
   "source": [
    "data[\"Drop_Hour\"] = data[\"Drop_Timestamp\"].dt.hour"
   ]
  },
  {
   "cell_type": "markdown",
   "id": "f3df5e47",
   "metadata": {},
   "source": [
    "### Delete Request Timestamp and Drop Timestamp columns"
   ]
  },
  {
   "cell_type": "code",
   "execution_count": 168,
   "id": "fe9d737e",
   "metadata": {},
   "outputs": [],
   "source": [
    "data.drop(['Request_Timestamp', 'Drop_Timestamp'], axis='columns', inplace=True)"
   ]
  },
  {
   "cell_type": "code",
   "execution_count": 169,
   "id": "34dffd5d",
   "metadata": {},
   "outputs": [
    {
     "name": "stdout",
     "output_type": "stream",
     "text": [
      "      Request_ID Pickup_Point  Driver_ID             Status  Request_Hour  \\\n",
      "0            619      Airport        1.0     Trip Completed            11   \n",
      "1            867      Airport        1.0     Trip Completed            17   \n",
      "2           1807         City        1.0     Trip Completed             9   \n",
      "3           2532      Airport        1.0     Trip Completed            21   \n",
      "4           3112         City        1.0     Trip Completed             8   \n",
      "...          ...          ...        ...                ...           ...   \n",
      "6740        6745         City        NaN  No Cars Available            23   \n",
      "6741        6752      Airport        NaN  No Cars Available            23   \n",
      "6742        6751         City        NaN  No Cars Available            23   \n",
      "6743        6754         City        NaN  No Cars Available            23   \n",
      "6744        6753      Airport        NaN  No Cars Available            23   \n",
      "\n",
      "      Drop_Hour  \n",
      "0          13.0  \n",
      "1          18.0  \n",
      "2           9.0  \n",
      "3          22.0  \n",
      "4           9.0  \n",
      "...         ...  \n",
      "6740        NaN  \n",
      "6741        NaN  \n",
      "6742        NaN  \n",
      "6743        NaN  \n",
      "6744        NaN  \n",
      "\n",
      "[6745 rows x 6 columns]\n"
     ]
    }
   ],
   "source": [
    "print(data)"
   ]
  },
  {
   "cell_type": "markdown",
   "id": "0bd5a58f",
   "metadata": {},
   "source": [
    "### Filter all the cancelled trips from the data"
   ]
  },
  {
   "cell_type": "code",
   "execution_count": 170,
   "id": "1d39f04a",
   "metadata": {},
   "outputs": [],
   "source": [
    "cancelled_trips = data[data['Status'] == 'Cancelled']"
   ]
  },
  {
   "cell_type": "code",
   "execution_count": 171,
   "id": "30e9dc2f",
   "metadata": {},
   "outputs": [
    {
     "name": "stdout",
     "output_type": "stream",
     "text": [
      "(1264, 6)\n"
     ]
    }
   ],
   "source": [
    "print(cancelled_trips.shape)"
   ]
  },
  {
   "cell_type": "markdown",
   "id": "38f34a1f",
   "metadata": {},
   "source": [
    "### Filter all the trips where cars were not available from the data"
   ]
  },
  {
   "cell_type": "code",
   "execution_count": 172,
   "id": "00cc9c07",
   "metadata": {},
   "outputs": [],
   "source": [
    "no_cars_available = data[data['Status'] == 'No Cars Available']"
   ]
  },
  {
   "cell_type": "code",
   "execution_count": 173,
   "id": "2fb4c495",
   "metadata": {},
   "outputs": [
    {
     "name": "stdout",
     "output_type": "stream",
     "text": [
      "(2650, 6)\n"
     ]
    }
   ],
   "source": [
    "print(no_cars_available.shape)"
   ]
  },
  {
   "cell_type": "markdown",
   "id": "81c646cc",
   "metadata": {},
   "source": [
    "### Filter all the completed trips from the data"
   ]
  },
  {
   "cell_type": "code",
   "execution_count": 174,
   "id": "267a1039",
   "metadata": {},
   "outputs": [],
   "source": [
    "completed_trips = data[data['Status'] == 'Trip Completed']"
   ]
  },
  {
   "cell_type": "code",
   "execution_count": 175,
   "id": "a299d788",
   "metadata": {
    "scrolled": true
   },
   "outputs": [
    {
     "name": "stdout",
     "output_type": "stream",
     "text": [
      "(2831, 6)\n"
     ]
    }
   ],
   "source": [
    "print(completed_trips.shape)"
   ]
  },
  {
   "cell_type": "code",
   "execution_count": 176,
   "id": "92446b81",
   "metadata": {},
   "outputs": [
    {
     "name": "stdout",
     "output_type": "stream",
     "text": [
      "Series([], dtype: int64)\n"
     ]
    }
   ],
   "source": [
    "print(cancelled_trips.value_counts())"
   ]
  },
  {
   "cell_type": "markdown",
   "id": "9bc4f5b4",
   "metadata": {},
   "source": [
    "### Plot a pie chart to show the number of trips of each type"
   ]
  },
  {
   "cell_type": "code",
   "execution_count": 177,
   "id": "98dc78e4",
   "metadata": {
    "scrolled": true
   },
   "outputs": [],
   "source": [
    "y = np.array([1264, 2650, 2831])"
   ]
  },
  {
   "cell_type": "code",
   "execution_count": 178,
   "id": "2e4cc8e4",
   "metadata": {},
   "outputs": [],
   "source": [
    "statuslabels = [\"Cancelled\", \"No Cars Available\", \"Trip Completed\"]"
   ]
  },
  {
   "cell_type": "code",
   "execution_count": 179,
   "id": "77346d8a",
   "metadata": {
    "scrolled": true
   },
   "outputs": [
    {
     "data": {
      "text/plain": [
       "([<matplotlib.patches.Wedge at 0x1bbdb7ec070>,\n",
       "  <matplotlib.patches.Wedge at 0x1bbdb7ec6a0>,\n",
       "  <matplotlib.patches.Wedge at 0x1bbdb7ecdc0>],\n",
       " [Text(0.9148122117335421, 0.6108343615606321, 'Cancelled'),\n",
       "  Text(-0.8197978372292601, 0.7334381405914392, 'No Cars Available'),\n",
       "  Text(0.27450168572516787, -1.0651989600699212, 'Trip Completed')],\n",
       " [Text(0.49898847912738653, 0.333182379033072, '18.74%'),\n",
       "  Text(-0.44716245667050547, 0.40005716759533044, '39.29%'),\n",
       "  Text(0.1497281922137279, -0.5810176145835932, '41.97%')])"
      ]
     },
     "execution_count": 179,
     "metadata": {},
     "output_type": "execute_result"
    },
    {
     "data": {
      "image/png": "[encoded data removed]",
      "text/plain": [
       "<Figure size 432x288 with 1 Axes>"
      ]
     },
     "metadata": {},
     "output_type": "display_data"
    }
   ],
   "source": [
    "plt.pie(y, labels = statuslabels, autopct = '%2.2f%%')"
   ]
  },
  {
   "cell_type": "markdown",
   "id": "d2e869df",
   "metadata": {},
   "source": [
    "### Plot a bar chart to show the supply demand gap"
   ]
  },
  {
   "cell_type": "code",
   "execution_count": 180,
   "id": "1bb14bbd",
   "metadata": {},
   "outputs": [],
   "source": [
    "x = [\"Supply\", \"Demand\"]"
   ]
  },
  {
   "cell_type": "code",
   "execution_count": 181,
   "id": "94136e1a",
   "metadata": {},
   "outputs": [],
   "source": [
    "y = np.array([2831, 6745])"
   ]
  },
  {
   "cell_type": "code",
   "execution_count": 210,
   "id": "fc806f80",
   "metadata": {
    "scrolled": true
   },
   "outputs": [
    {
     "data": {
      "text/plain": [
       "([<matplotlib.patches.Wedge at 0x1bbda5f5130>,\n",
       "  <matplotlib.patches.Wedge at 0x1bbda5f58e0>],\n",
       " [Text(0.6587063113848798, 0.8809687822742223, 'Supply'),\n",
       "  Text(-0.6587063113848801, -0.8809687822742219, 'Demand')],\n",
       " [Text(0.3592943516644798, 0.48052842669503026, '29.56%'),\n",
       "  Text(-0.35929435166448004, -0.4805284266950301, '70.44%')])"
      ]
     },
     "execution_count": 210,
     "metadata": {},
     "output_type": "execute_result"
    },
    {
     "data": {
      "image/png": "[encoded data removed]",
      "text/plain": [
       "<Figure size 432x288 with 1 Axes>"
      ]
     },
     "metadata": {},
     "output_type": "display_data"
    }
   ],
   "source": [
    "plt.pie(y, labels = x, autopct = '%2.2f%%')"
   ]
  },
  {
   "cell_type": "markdown",
   "id": "e3858f16",
   "metadata": {},
   "source": [
    "### Convert the hours column to list format"
   ]
  },
  {
   "cell_type": "code",
   "execution_count": 183,
   "id": "7fe1c398",
   "metadata": {},
   "outputs": [],
   "source": [
    "cancelled_hour = cancelled_trips['Request_Hour'].tolist()"
   ]
  },
  {
   "cell_type": "code",
   "execution_count": 184,
   "id": "23fca9aa",
   "metadata": {},
   "outputs": [],
   "source": [
    "notavailable_hour = no_cars_available['Request_Hour'].tolist()"
   ]
  },
  {
   "cell_type": "markdown",
   "id": "f88aa4bb",
   "metadata": {},
   "source": [
    "### Plot a histogram to show the time slots when trips got cancelled"
   ]
  },
  {
   "cell_type": "code",
   "execution_count": 185,
   "id": "7be04ca1",
   "metadata": {},
   "outputs": [],
   "source": [
    "range = (0, 23)"
   ]
  },
  {
   "cell_type": "code",
   "execution_count": 186,
   "id": "89dfe7e3",
   "metadata": {},
   "outputs": [],
   "source": [
    "bins = 24"
   ]
  },
  {
   "cell_type": "code",
   "execution_count": 187,
   "id": "62000721",
   "metadata": {},
   "outputs": [],
   "source": [
    "def plots(q):\n",
    "    plt.hist(q, bins, range, color = 'green', histtype = 'bar', rwidth = 0.8)\n",
    "    plt.xlabel('Time Slots')\n",
    "    plt.ylabel(\"Number of Trips\")"
   ]
  },
  {
   "cell_type": "code",
   "execution_count": 188,
   "id": "b246b02d",
   "metadata": {
    "scrolled": false
   },
   "outputs": [
    {
     "data": {
      "image/png": "[encoded data removed]",
      "text/plain": [
       "<Figure size 432x288 with 1 Axes>"
      ]
     },
     "metadata": {
      "needs_background": "light"
     },
     "output_type": "display_data"
    }
   ],
   "source": [
    "plots(cancelled_hour)"
   ]
  },
  {
   "cell_type": "markdown",
   "id": "b95ee57f",
   "metadata": {},
   "source": [
    "### Plot a histogram to show the time slots when cars were not available"
   ]
  },
  {
   "cell_type": "code",
   "execution_count": 189,
   "id": "8387abf1",
   "metadata": {},
   "outputs": [
    {
     "data": {
      "image/png": "[encoded data removed]",
      "text/plain": [
       "<Figure size 432x288 with 1 Axes>"
      ]
     },
     "metadata": {
      "needs_background": "light"
     },
     "output_type": "display_data"
    }
   ],
   "source": [
    "plots(notavailable_hour)"
   ]
  },
  {
   "cell_type": "markdown",
   "id": "3905b3b0",
   "metadata": {},
   "source": [
    "### Filter unsuccesful trips from city to airport"
   ]
  },
  {
   "cell_type": "code",
   "execution_count": 190,
   "id": "36be0d12",
   "metadata": {},
   "outputs": [],
   "source": [
    "city_to_airport = data[(data.Status != 'Trip Completed') & (data.Pickup_Point == 'City')]"
   ]
  },
  {
   "cell_type": "code",
   "execution_count": 191,
   "id": "2292ba95",
   "metadata": {},
   "outputs": [
    {
     "name": "stdout",
     "output_type": "stream",
     "text": [
      "(2003, 6)\n"
     ]
    }
   ],
   "source": [
    "print(city_to_airport.shape)"
   ]
  },
  {
   "cell_type": "markdown",
   "id": "a8f09ebf",
   "metadata": {},
   "source": [
    "### Filter unsuccessful trips from airport to city"
   ]
  },
  {
   "cell_type": "code",
   "execution_count": 192,
   "id": "e2faa23f",
   "metadata": {},
   "outputs": [],
   "source": [
    "airport_to_city = data[(data.Status != 'Trip Completed') & (data.Pickup_Point == 'Airport')]"
   ]
  },
  {
   "cell_type": "code",
   "execution_count": 193,
   "id": "0cc1efad",
   "metadata": {},
   "outputs": [
    {
     "name": "stdout",
     "output_type": "stream",
     "text": [
      "(1911, 6)\n"
     ]
    }
   ],
   "source": [
    "print(airport_to_city.shape)"
   ]
  },
  {
   "cell_type": "markdown",
   "id": "0a7e0ec4",
   "metadata": {},
   "source": [
    "### Plot a bar to show the gap between unsuccessful trips from city to airport and from airport to city"
   ]
  },
  {
   "cell_type": "code",
   "execution_count": 194,
   "id": "14a7207b",
   "metadata": {},
   "outputs": [],
   "source": [
    "p = [\"Failed Trips from Airport to City\", \"Failed Trips from City to Airport\"]"
   ]
  },
  {
   "cell_type": "code",
   "execution_count": 195,
   "id": "bf4e6a6d",
   "metadata": {},
   "outputs": [],
   "source": [
    "q = np.array([1911, 2003])"
   ]
  },
  {
   "cell_type": "code",
   "execution_count": 209,
   "id": "800b2007",
   "metadata": {},
   "outputs": [
    {
     "data": {
      "text/plain": [
       "([<matplotlib.patches.Wedge at 0x1bbdb935e20>,\n",
       "  <matplotlib.patches.Wedge at 0x1bbdb71e520>],\n",
       " [Text(0.04060517048133803, 1.0992502991267192, 'Failed Trips from Airport to City'),\n",
       "  Text(-0.04060527340057912, -1.0992502953249839, 'Failed Trips from City to Airport')],\n",
       " [Text(0.022148274808002556, 0.5995910722509377, '48.82%'),\n",
       "  Text(-0.022148330945770428, -0.5995910701772639, '51.18%')])"
      ]
     },
     "execution_count": 209,
     "metadata": {},
     "output_type": "execute_result"
    },
    {
     "data": {
      "image/png": "[encoded data removed]",
      "text/plain": [
       "<Figure size 432x288 with 1 Axes>"
      ]
     },
     "metadata": {},
     "output_type": "display_data"
    }
   ],
   "source": [
    "plt.pie(q, labels = p, autopct = '%2.2f%%')"
   ]
  },
  {
   "cell_type": "markdown",
   "id": "3fc522b3",
   "metadata": {},
   "source": [
    "### Filter cancelled trips from city to airport"
   ]
  },
  {
   "cell_type": "code",
   "execution_count": 197,
   "id": "870c2a02",
   "metadata": {},
   "outputs": [],
   "source": [
    "city_to_airport_cancelled = data[(data.Status == 'Cancelled') & (data.Pickup_Point == 'City')]"
   ]
  },
  {
   "cell_type": "markdown",
   "id": "a1c70c46",
   "metadata": {},
   "source": [
    "### Filter trips from city to airport when cars were not available"
   ]
  },
  {
   "cell_type": "code",
   "execution_count": 198,
   "id": "1daf4e89",
   "metadata": {},
   "outputs": [],
   "source": [
    "city_to_airport_not_available = data[(data.Status == 'No Cars Available') & (data.Pickup_Point == 'City')]"
   ]
  },
  {
   "cell_type": "markdown",
   "id": "f63b6f4c",
   "metadata": {},
   "source": [
    "### Filter cancelled trips from airport to city"
   ]
  },
  {
   "cell_type": "code",
   "execution_count": 199,
   "id": "46204717",
   "metadata": {},
   "outputs": [],
   "source": [
    "airport_to_city_cancelled = data[(data.Status == 'Cancelled') & (data.Pickup_Point == 'Airport')]"
   ]
  },
  {
   "cell_type": "markdown",
   "id": "494f278b",
   "metadata": {},
   "source": [
    "### Filter trips from airport to city when cars were not available"
   ]
  },
  {
   "cell_type": "code",
   "execution_count": 200,
   "id": "cb22af39",
   "metadata": {},
   "outputs": [],
   "source": [
    "airport_to_city_not_available = data[(data.Status == 'No Cars Available') & (data.Pickup_Point == 'Airport')]"
   ]
  },
  {
   "cell_type": "markdown",
   "id": "2827a0b8",
   "metadata": {},
   "source": [
    "### Convert the hours column to list format"
   ]
  },
  {
   "cell_type": "code",
   "execution_count": 201,
   "id": "507120a1",
   "metadata": {},
   "outputs": [],
   "source": [
    "city_to_airport_cancelled_hour = city_to_airport_cancelled['Request_Hour'].tolist()"
   ]
  },
  {
   "cell_type": "markdown",
   "id": "11d3ed4c",
   "metadata": {},
   "source": [
    "### Plot a histogram to show the time slots when trip from city to airport got cancelled"
   ]
  },
  {
   "cell_type": "code",
   "execution_count": 202,
   "id": "bdf575d5",
   "metadata": {},
   "outputs": [
    {
     "data": {
      "image/png": "[encoded data removed]",
      "text/plain": [
       "<Figure size 432x288 with 1 Axes>"
      ]
     },
     "metadata": {
      "needs_background": "light"
     },
     "output_type": "display_data"
    }
   ],
   "source": [
    "plots(city_to_airport_cancelled_hour)"
   ]
  },
  {
   "cell_type": "markdown",
   "id": "8b429902",
   "metadata": {},
   "source": [
    "### Convert the hours column to list format"
   ]
  },
  {
   "cell_type": "code",
   "execution_count": 203,
   "id": "2e49d8a3",
   "metadata": {},
   "outputs": [],
   "source": [
    "city_to_airport_not_available_hour = city_to_airport_not_available['Request_Hour'].tolist()"
   ]
  },
  {
   "cell_type": "markdown",
   "id": "6d32a5ae",
   "metadata": {},
   "source": [
    "### Plot a histogram to show the time slots when cars were not available for city to airport trip"
   ]
  },
  {
   "cell_type": "code",
   "execution_count": 204,
   "id": "205a3bde",
   "metadata": {},
   "outputs": [
    {
     "data": {
      "image/png": "[encoded data removed]",
      "text/plain": [
       "<Figure size 432x288 with 1 Axes>"
      ]
     },
     "metadata": {
      "needs_background": "light"
     },
     "output_type": "display_data"
    }
   ],
   "source": [
    "plots(city_to_airport_not_available_hour)"
   ]
  },
  {
   "cell_type": "markdown",
   "id": "84c56705",
   "metadata": {},
   "source": [
    "### Convert the hours column to list format"
   ]
  },
  {
   "cell_type": "code",
   "execution_count": 205,
   "id": "e0ec4ce2",
   "metadata": {},
   "outputs": [],
   "source": [
    "airport_to_city_cancelled_hour = airport_to_city_cancelled['Request_Hour'].tolist()"
   ]
  },
  {
   "cell_type": "markdown",
   "id": "edf3ff21",
   "metadata": {},
   "source": [
    "### Plot a histogram to show the time slots when trip from airport to city got cancelled"
   ]
  },
  {
   "cell_type": "code",
   "execution_count": 206,
   "id": "8135ca78",
   "metadata": {},
   "outputs": [
    {
     "data": {
      "image/png": "[encoded data removed]",
      "text/plain": [
       "<Figure size 432x288 with 1 Axes>"
      ]
     },
     "metadata": {
      "needs_background": "light"
     },
     "output_type": "display_data"
    }
   ],
   "source": [
    "plots(airport_to_city_cancelled_hour)"
   ]
  },
  {
   "cell_type": "markdown",
   "id": "54ad85ed",
   "metadata": {},
   "source": [
    "### Convert the hours column to list format"
   ]
  },
  {
   "cell_type": "code",
   "execution_count": 207,
   "id": "a63f5c38",
   "metadata": {},
   "outputs": [],
   "source": [
    "airport_to_city_not_available_hour = airport_to_city_not_available['Request_Hour'].tolist()"
   ]
  },
  {
   "cell_type": "markdown",
   "id": "0c270c67",
   "metadata": {},
   "source": [
    "### Plot a histogram to show the time slots when cars were not availabale for airport to city trip"
   ]
  },
  {
   "cell_type": "code",
   "execution_count": 208,
   "id": "05bd812a",
   "metadata": {},
   "outputs": [
    {
     "data": {
      "image/png": "[encoded data removed]",
      "text/plain": [
       "<Figure size 432x288 with 1 Axes>"
      ]
     },
     "metadata": {
      "needs_background": "light"
     },
     "output_type": "display_data"
    }
   ],
   "source": [
    "plots(airport_to_city_not_available_hour)"
   ]
  },
  {
   "cell_type": "markdown",
   "id": "50b19c6f",
   "metadata": {},
   "source": [
    "### Conclusion"
   ]
  },
  {
   "cell_type": "markdown",
   "id": "09399a35",
   "metadata": {},
   "source": [
    "#### 1. Heavy demand in the city from 4 AM to 11 PM"
   ]
  },
  {
   "cell_type": "markdown",
   "id": "f4f1f45d",
   "metadata": {},
   "source": [
    "#### 2. Heavy demand at the airport from 5 PM to 11 PM"
   ]
  }
 ],
 "metadata": {
  "kernelspec": {
   "display_name": "Python 3",
   "language": "python",
   "name": "python3"
  },
  "language_info": {
   "codemirror_mode": {
    "name": "ipython",
    "version": 3
   },
   "file_extension": ".py",
   "mimetype": "text/x-python",
   "name": "python",
   "nbconvert_exporter": "python",
   "pygments_lexer": "ipython3",
   "version": "3.9.5"
  }
 },
 "nbformat": 4,
 "nbformat_minor": 5
}
